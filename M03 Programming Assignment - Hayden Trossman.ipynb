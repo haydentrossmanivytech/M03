{
 "cells": [
  {
   "cell_type": "code",
   "execution_count": 39,
   "id": "f8656ac0",
   "metadata": {},
   "outputs": [],
   "source": [
    "#7.4 - 7.7"
   ]
  },
  {
   "cell_type": "code",
   "execution_count": 40,
   "id": "0b0572ef",
   "metadata": {},
   "outputs": [],
   "source": [
    "things = ['mozzarella', 'cinderella', 'salmonella']"
   ]
  },
  {
   "cell_type": "code",
   "execution_count": 41,
   "id": "b21168b4",
   "metadata": {},
   "outputs": [
    {
     "name": "stdout",
     "output_type": "stream",
     "text": [
      "['mozzarella', 'cinderella', 'salmonella']\n"
     ]
    }
   ],
   "source": [
    "print(things)"
   ]
  },
  {
   "cell_type": "code",
   "execution_count": 42,
   "id": "60455379",
   "metadata": {},
   "outputs": [],
   "source": [
    "things[1] = things[1].capitalize()"
   ]
  },
  {
   "cell_type": "code",
   "execution_count": 43,
   "id": "94d909a5",
   "metadata": {
    "scrolled": true
   },
   "outputs": [
    {
     "name": "stdout",
     "output_type": "stream",
     "text": [
      "['mozzarella', 'Cinderella', 'salmonella']\n"
     ]
    }
   ],
   "source": [
    "print(things)\n",
    "\n",
    "#yes it updated"
   ]
  },
  {
   "cell_type": "code",
   "execution_count": 44,
   "id": "12a548c5",
   "metadata": {},
   "outputs": [],
   "source": [
    "things[0] = things[0].upper()"
   ]
  },
  {
   "cell_type": "code",
   "execution_count": 45,
   "id": "722e7923",
   "metadata": {},
   "outputs": [
    {
     "name": "stdout",
     "output_type": "stream",
     "text": [
      "['MOZZARELLA', 'Cinderella', 'salmonella']\n"
     ]
    }
   ],
   "source": [
    "print(things)"
   ]
  },
  {
   "cell_type": "code",
   "execution_count": 46,
   "id": "a6d4da16",
   "metadata": {},
   "outputs": [],
   "source": [
    "things.remove(things[2])"
   ]
  },
  {
   "cell_type": "code",
   "execution_count": 47,
   "id": "b3d50993",
   "metadata": {},
   "outputs": [
    {
     "name": "stdout",
     "output_type": "stream",
     "text": [
      "['MOZZARELLA', 'Cinderella']\n"
     ]
    }
   ],
   "source": [
    "print(things)"
   ]
  },
  {
   "cell_type": "code",
   "execution_count": 48,
   "id": "a3805f84",
   "metadata": {},
   "outputs": [],
   "source": [
    "#9.1"
   ]
  },
  {
   "cell_type": "code",
   "execution_count": 49,
   "id": "0ba8f725",
   "metadata": {},
   "outputs": [],
   "source": [
    "list = ['Harry', 'Ron', 'Hermione']\n",
    "\n",
    "def good():\n",
    "    print(list)"
   ]
  },
  {
   "cell_type": "code",
   "execution_count": 50,
   "id": "8cf109f2",
   "metadata": {},
   "outputs": [
    {
     "name": "stdout",
     "output_type": "stream",
     "text": [
      "['Harry', 'Ron', 'Hermione']\n"
     ]
    }
   ],
   "source": [
    "good()"
   ]
  },
  {
   "cell_type": "code",
   "execution_count": 51,
   "id": "95aa828b",
   "metadata": {},
   "outputs": [],
   "source": [
    "#9.2"
   ]
  },
  {
   "cell_type": "code",
   "execution_count": 1,
   "id": "1f542dc4",
   "metadata": {},
   "outputs": [
    {
     "name": "stdout",
     "output_type": "stream",
     "text": [
      "The third odd number is: 5\n"
     ]
    }
   ],
   "source": [
    "def get_odds():\n",
    "    for num in range(10):\n",
    "        if num % 2 != 0:\n",
    "            yield num\n",
    "            get_odds()\n",
    "\n",
    "# Initialize a counter to keep track of the values returned\n",
    "count = 0\n",
    "\n",
    "# Use a for loop to find and print the third value returned\n",
    "for odd_number in get_odds():\n",
    "    count += 1\n",
    "    if count == 3:\n",
    "        print(\"The third odd number is:\", odd_number)\n",
    "        break"
   ]
  },
  {
   "cell_type": "code",
   "execution_count": null,
   "id": "c66b51c7",
   "metadata": {},
   "outputs": [],
   "source": []
  }
 ],
 "metadata": {
  "kernelspec": {
   "display_name": "Python 3 (ipykernel)",
   "language": "python",
   "name": "python3"
  },
  "language_info": {
   "codemirror_mode": {
    "name": "ipython",
    "version": 3
   },
   "file_extension": ".py",
   "mimetype": "text/x-python",
   "name": "python",
   "nbconvert_exporter": "python",
   "pygments_lexer": "ipython3",
   "version": "3.11.4"
  }
 },
 "nbformat": 4,
 "nbformat_minor": 5
}
